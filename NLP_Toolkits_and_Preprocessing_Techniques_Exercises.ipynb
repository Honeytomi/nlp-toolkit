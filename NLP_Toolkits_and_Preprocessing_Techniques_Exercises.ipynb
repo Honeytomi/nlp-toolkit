{
  "nbformat": 4,
  "nbformat_minor": 0,
  "metadata": {
    "kernelspec": {
      "display_name": "Python 2",
      "language": "python",
      "name": "python2"
    },
    "language_info": {
      "codemirror_mode": {
        "name": "ipython",
        "version": 2
      },
      "file_extension": ".py",
      "mimetype": "text/x-python",
      "name": "python",
      "nbconvert_exporter": "python",
      "pygments_lexer": "ipython2",
      "version": "2.7.13"
    },
    "toc": {
      "colors": {
        "hover_highlight": "#DAA520",
        "navigate_num": "#000000",
        "navigate_text": "#333333",
        "running_highlight": "#FF0000",
        "selected_highlight": "#FFD700",
        "sidebar_border": "#EEEEEE",
        "wrapper_background": "#FFFFFF"
      },
      "moveMenuLeft": true,
      "nav_menu": {
        "height": "48px",
        "width": "252px"
      },
      "navigate_menu": true,
      "number_sections": true,
      "sideBar": true,
      "threshold": 4,
      "toc_cell": false,
      "toc_section_display": "block",
      "toc_window_display": false,
      "widenNotebook": false
    },
    "colab": {
      "name": "NLP_Toolkits_and_Preprocessing_Techniques_Exercises.ipynb",
      "provenance": [],
      "toc_visible": true
    }
  },
  "cells": [
    {
      "cell_type": "markdown",
      "metadata": {
        "id": "Bv_flH5xPpBV",
        "colab_type": "text"
      },
      "source": [
        "# NLP Toolkits and Preprocessing Exercises"
      ]
    },
    {
      "cell_type": "markdown",
      "metadata": {
        "id": "3G-BW9svPpBo",
        "colab_type": "text"
      },
      "source": [
        "## Introduction"
      ]
    },
    {
      "cell_type": "markdown",
      "metadata": {
        "id": "6emN5eggPpBt",
        "colab_type": "text"
      },
      "source": [
        "We will be using [review data from Kaggle](https://www.kaggle.com/snap/amazon-fine-food-reviews) to practice preprocessing text data. The dataset contains user reviews for many products, but today we'll be focusing on the product in the dataset that had the most reviews - an oatmeal cookie. \n",
        "\n",
        "The following code will help you load in the data. If this is your first time using nltk, you'll to need to pip install it first."
      ]
    },
    {
      "cell_type": "code",
      "metadata": {
        "id": "PeifGYuUPpBy",
        "colab_type": "code",
        "outputId": "7fb3067b-aa67-4831-cae8-4ea8be940ccb",
        "colab": {
          "base_uri": "https://localhost:8080/",
          "height": 50
        }
      },
      "source": [
        "import nltk\n",
        "# nltk.download() <-- Run this if it's your first time using nltk to download all of the datasets and models\n",
        "nltk.download('punkt')\n",
        "import pandas as pd\n",
        "import matplotlib.pyplot as plt\n",
        "import re"
      ],
      "execution_count": 1,
      "outputs": [
        {
          "output_type": "stream",
          "text": [
            "[nltk_data] Downloading package punkt to /root/nltk_data...\n",
            "[nltk_data]   Package punkt is already up-to-date!\n"
          ],
          "name": "stdout"
        }
      ]
    },
    {
      "cell_type": "code",
      "metadata": {
        "id": "HSLMV_dLPpCC",
        "colab_type": "code",
        "outputId": "be98a5f4-ae69-4b95-ecb3-cd39037b8332",
        "colab": {
          "base_uri": "https://localhost:8080/",
          "height": 1000
        }
      },
      "source": [
        "data = pd.read_csv('cookie_reviews.csv')\n",
        "data.head"
      ],
      "execution_count": 2,
      "outputs": [
        {
          "output_type": "execute_result",
          "data": {
            "text/plain": [
              "<bound method DataFrame.head of             user_id  stars                                            reviews\n",
              "0    A368Z46FIKHSEZ      5  I love these cookies!  Not only are they healt...\n",
              "1    A1JAPP1CXRG57A      5  Quaker Soft Baked Oatmeal Cookies with raisins...\n",
              "2    A2Z9JNXPIEL2B9      5  I am usually not a huge fan of oatmeal cookies...\n",
              "3    A31CYJQO3FL586      5  I participated in a product review that includ...\n",
              "4    A2KXQ2EKFF3K2G      5  My kids loved these. I was very pleased to giv...\n",
              "5    A2U5TAIAQ675BL      5  I really enjoyed these individually wrapped bi...\n",
              "6    A1R4PIBZBD3NZ0      4  I was surprised at how soft the cookie was. I ...\n",
              "7    A1ECQ8LJMXG4WI      5  Filled with oats and raisins you'll love this ...\n",
              "8    A3MSG4E5MLI1XP      5  I was recently given a complimentary \"vox box\"...\n",
              "9    A3BUDUV9GORLWH      5  the best and freshest cookie that comes in a p...\n",
              "10   A3HW0FYDWOUP3D      5  I am a huge fan of the Quaker Chewy cookies! T...\n",
              "11   A2AH0NQIVXE3HL      5  yummy and delicious. i love eating it when it ...\n",
              "12   A2ZGYBGUC2O3DG      5  I received a Quaker Oatmeal Soft Baked Oatmeal...\n",
              "13   A1SYBOB4WOOTTO      5  These cookies were so good. Can't wait to go o...\n",
              "14   A3DJKYKNPY6VD5      5  I received these in my MomVox box from influen...\n",
              "15   A35R5NGXV8YXJC      5  Quaker Soft Baked Oatmeal Cookies taste just l...\n",
              "16   A1SXVTJXIYPKF5      5  These cookies are a real hit with my children!...\n",
              "17    AM3E6SVW2M0X3      4  I really enjoy Quaker's products and the fact ...\n",
              "18   A3MCMVDYBTDFJ3      5  This was the most delightful cookie i ever tas...\n",
              "19   A1KNO1B2QQL16M      4  Quaker used some good ingredients in the cooki...\n",
              "20    A3PM5X6Z3B36K      5  My daughter stole it from me and ate it, I gue...\n",
              "21   A2GLT67QUPVQSF      5  I loved this delicious cookie! I even shared i...\n",
              "22   A1VS92UYKY0GHN      5  I enjoy these cookies... They taste like my gr...\n",
              "23   A1HI90UH876FKB      5  These cookies have perfect flavor, excellent m...\n",
              "24    A5H2KQ06DLGWW      5  Received this through VoxBox and loved it. My ...\n",
              "25   A184ZFZZBWEXMS      5  I love oatmeal cookies and have made them at l...\n",
              "26   A1JE9RKJSQ9WGO      5  I love the soft bakes oatmeal raisin cookies. ...\n",
              "27   A35MLIRKBT4BYA      5  I was pleasantly surprised when I tasted these...\n",
              "28   A3GJEEX2OZB1C4      5  This was delicious. I was hesitant about tryin...\n",
              "29   A2PMWI7ZJ0AU2N      5  I received a free sample of these cookies thro...\n",
              "..              ...    ...                                                ...\n",
              "883  A2BEW6FNOW66XX      5  I like the cookies while on the go.  They are ...\n",
              "884  A14WF67CUR3SUJ      5  i recived a free sample from Influenster and l...\n",
              "885  A2XYCTVMA6HMM0      5  These cookies are a great quick snack for the ...\n",
              "886  A2ND5PJ38SLVPV      5  I received a sample of these and quickly went ...\n",
              "887  A34Y157GY4DWJ7      5  My children love these cookies. They are very ...\n",
              "888  A3GJP4K1FBGWB3      5  These cookies were so soft and yummy. You woul...\n",
              "889  A16MFXKAX4WZKF      5  My whole family loves these cookies. And my so...\n",
              "890  A2SHJMNOT4EER5      4  My kids loved these and they are great to just...\n",
              "891  A1YTINX5QKEW3P      5  I have fallen in love with Quaker's Soft Baked...\n",
              "892  A392CEKYCUK725      5  i love these soft cookies. they taste like fre...\n",
              "893  A1G5DIQMDBP8UA      5  I absolutely loved these new cookies. They wer...\n",
              "894  A2UI2YR1T3P1ZI      5  I received this amazing Soft Baked Oatmeal Coo...\n",
              "895   A95PKRD4T3RUG      3  I got this from Influenster in my mom voxbox, ...\n",
              "896  A1QA81DFWWGPPN      4  I got these in my Influenster Mom VoxBox, and ...\n",
              "897  A28LXPTCISZA0S      5  I got one of these in my Influenster Mom VoxBo...\n",
              "898  A2PAJUZF2RCZIW      4  A decadent go to treat!! Nice to keep around t...\n",
              "899   AES9VNGFZLOE1      5  ~ Quick Take: Tasty, chewy, soft-baked cookies...\n",
              "900  A22QAN7HTA6R7L      5  The cookie didn't make it much further than ou...\n",
              "901  A284GGIIM31PGM      1  My kids or I didn't care for it much, they tos...\n",
              "902  A1A1BM6N28X9J0      1  If I could give it zero stars I would......hor...\n",
              "903   A55PK06Q6AKFY      4  These cookies are soft and delicious.  Possibl...\n",
              "904  A1YJMG0QJXZLD4      5  I cannot say these taste like home made but th...\n",
              "905  A1W0EK0033YVGP      5  this cookie is super soft and chewy.i love it ...\n",
              "906   AFJFINIKFOFSB      3  These cookies are reasonably tasty without bei...\n",
              "907   AQUMNB8YWE595      5  THIS IS A FAB PRODUCT SOFT AND CHEWY YOU CANT ...\n",
              "908  A366PSH7KFLRPB      5  I loved these cookies and so did my kids. You ...\n",
              "909  A2KV6EYQPKJRR5      5  This is a great tasting cookie. It is very sof...\n",
              "910  A3O7REI0OSV89M      4  These are great for a quick snack! They are sa...\n",
              "911   A9JS5GQQ6GIQT      5  I love the Quaker soft baked cookies.  The rea...\n",
              "912   AMAVEZAGCH52H      5  This cookie is really good and works really we...\n",
              "\n",
              "[913 rows x 3 columns]>"
            ]
          },
          "metadata": {
            "tags": []
          },
          "execution_count": 2
        }
      ]
    },
    {
      "cell_type": "markdown",
      "metadata": {
        "id": "WFadRtzWPpCb",
        "colab_type": "text"
      },
      "source": [
        "## Question 1 ##"
      ]
    },
    {
      "cell_type": "markdown",
      "metadata": {
        "id": "mtbJeWKyPpCh",
        "colab_type": "text"
      },
      "source": [
        "* Determine how many reviews there are in total.\n",
        "* Determine the percent of 1, 2, 3, 4 and 5 star reviews.\n",
        "* Determine the distribution of character lengths for the reviews, by listing the values and by plotting a histogram."
      ]
    },
    {
      "cell_type": "code",
      "metadata": {
        "id": "AnDAyjO2EdI4",
        "colab_type": "code",
        "outputId": "5a070776-0810-4d41-aff5-18a463822c71",
        "colab": {
          "base_uri": "https://localhost:8080/",
          "height": 33
        }
      },
      "source": [
        "len(data)"
      ],
      "execution_count": 3,
      "outputs": [
        {
          "output_type": "execute_result",
          "data": {
            "text/plain": [
              "913"
            ]
          },
          "metadata": {
            "tags": []
          },
          "execution_count": 3
        }
      ]
    },
    {
      "cell_type": "code",
      "metadata": {
        "id": "N-9sdhR2FWRG",
        "colab_type": "code",
        "colab": {}
      },
      "source": [
        "star = data.stars.value_counts()"
      ],
      "execution_count": 0,
      "outputs": []
    },
    {
      "cell_type": "code",
      "metadata": {
        "id": "CgsF-5gAGNte",
        "colab_type": "code",
        "colab": {}
      },
      "source": [
        "pct = (star/star.sum())*100"
      ],
      "execution_count": 0,
      "outputs": []
    },
    {
      "cell_type": "code",
      "metadata": {
        "id": "BX6TEegYHyKR",
        "colab_type": "code",
        "outputId": "d5a7b5a1-1f82-425c-daac-558e5ea68861",
        "colab": {
          "base_uri": "https://localhost:8080/",
          "height": 115
        }
      },
      "source": [
        "pct"
      ],
      "execution_count": 6,
      "outputs": [
        {
          "output_type": "execute_result",
          "data": {
            "text/plain": [
              "5    68.346112\n",
              "4    23.767798\n",
              "3     6.133625\n",
              "2     1.314348\n",
              "1     0.438116\n",
              "Name: stars, dtype: float64"
            ]
          },
          "metadata": {
            "tags": []
          },
          "execution_count": 6
        }
      ]
    },
    {
      "cell_type": "code",
      "metadata": {
        "id": "yxOfl8TaH7NX",
        "colab_type": "code",
        "colab": {}
      },
      "source": [
        "data['characterlength'] = data['reviews'].str.len()"
      ],
      "execution_count": 0,
      "outputs": []
    },
    {
      "cell_type": "code",
      "metadata": {
        "id": "RD6OJYIFIGUp",
        "colab_type": "code",
        "outputId": "a943e031-cea1-4867-a233-fafad7b3004c",
        "colab": {
          "base_uri": "https://localhost:8080/",
          "height": 295
        }
      },
      "source": [
        "data.characterlength.plot(kind = 'hist', logy = True)\n",
        "plt.xlim(data.characterlength.min(), data.characterlength.max())\n",
        "plt.xlabel('character length')\n",
        "plt.title('character length distribution')\n",
        "plt.show()"
      ],
      "execution_count": 8,
      "outputs": [
        {
          "output_type": "display_data",
          "data": {
            "image/png": "[encoded data removed]",
            "text/plain": [
              "<Figure size 432x288 with 1 Axes>"
            ]
          },
          "metadata": {
            "tags": []
          }
        }
      ]
    },
    {
      "cell_type": "markdown",
      "metadata": {
        "id": "ag0PBK7cPpCr",
        "colab_type": "text"
      },
      "source": [
        "## Question 2 ##"
      ]
    },
    {
      "cell_type": "markdown",
      "metadata": {
        "collapsed": true,
        "id": "3MU0lWjlPpC0",
        "colab_type": "text"
      },
      "source": [
        "* Apply the following preprocessing steps:\n",
        "\n",
        "     1. Remove all words that contain numbers\n",
        "     2. Make all the text lowercase\n",
        "     3. Remove punctuation\n",
        "     4. Tokenize the reviews into words\n",
        "     \n",
        "  Hint #1: Use regular expressions.\n",
        "  \n",
        "  Hint #2: The cookie review in the second row has numbers, upper case letters and punctuation. You can use it to test out your regular expressions.\n",
        "     \n",
        "     \n",
        "* Find the most common words.\n",
        "* Determine the word length distribution over the entire corpus."
      ]
    },
    {
      "cell_type": "code",
      "metadata": {
        "id": "GnVn4ydNKOma",
        "colab_type": "code",
        "colab": {}
      },
      "source": [
        "from nltk import regexp_tokenize\n",
        "from nltk import wordpunct_tokenize\n",
        "from nltk import word_tokenize"
      ],
      "execution_count": 0,
      "outputs": []
    },
    {
      "cell_type": "code",
      "metadata": {
        "id": "tXdz080mJ8p8",
        "colab_type": "code",
        "colab": {}
      },
      "source": [
        "data.reviews = data.reviews.replace(regex = ['\\d+'], value = '')\n",
        "data.reviews = data.reviews.replace(regex = ['\\w+\\d+'], value = '')\n",
        "data.reviews = data.reviews.replace(regex = ['\\d+\\w+'], value = '')\n",
        "data.reviews = data.reviews.replace(regex = ['w+\\d+\\w+'], value = '')"
      ],
      "execution_count": 0,
      "outputs": []
    },
    {
      "cell_type": "code",
      "metadata": {
        "id": "ar_3Z3_wOSZG",
        "colab_type": "code",
        "colab": {}
      },
      "source": [
        "data.reviews = data.reviews.str.lower()"
      ],
      "execution_count": 0,
      "outputs": []
    },
    {
      "cell_type": "code",
      "metadata": {
        "id": "HeXeGodPPxh-",
        "colab_type": "code",
        "colab": {}
      },
      "source": [
        "data.reviews = data.reviews.str.replace('[^\\w\\s]','')"
      ],
      "execution_count": 0,
      "outputs": []
    },
    {
      "cell_type": "code",
      "metadata": {
        "id": "QWerg6AAQqgy",
        "colab_type": "code",
        "colab": {}
      },
      "source": [
        "data.reviews = data.reviews.str.strip()"
      ],
      "execution_count": 0,
      "outputs": []
    },
    {
      "cell_type": "code",
      "metadata": {
        "id": "SuvFJ1buRB_u",
        "colab_type": "code",
        "colab": {}
      },
      "source": [
        "data['tokenized text']= data['reviews'].apply(word_tokenize)"
      ],
      "execution_count": 0,
      "outputs": []
    },
    {
      "cell_type": "code",
      "metadata": {
        "id": "-heMXkikSQ8-",
        "colab_type": "code",
        "outputId": "1c0db2a8-f151-49e6-ef24-bd65059a9d9c",
        "colab": {
          "base_uri": "https://localhost:8080/",
          "height": 191
        }
      },
      "source": [
        "data.head()"
      ],
      "execution_count": 15,
      "outputs": [
        {
          "output_type": "execute_result",
          "data": {
            "text/html": [
              "<div>\n",
              "<style scoped>\n",
              "    .dataframe tbody tr th:only-of-type {\n",
              "        vertical-align: middle;\n",
              "    }\n",
              "\n",
              "    .dataframe tbody tr th {\n",
              "        vertical-align: top;\n",
              "    }\n",
              "\n",
              "    .dataframe thead th {\n",
              "        text-align: right;\n",
              "    }\n",
              "</style>\n",
              "<table border=\"1\" class=\"dataframe\">\n",
              "  <thead>\n",
              "    <tr style=\"text-align: right;\">\n",
              "      <th></th>\n",
              "      <th>user_id</th>\n",
              "      <th>stars</th>\n",
              "      <th>reviews</th>\n",
              "      <th>characterlength</th>\n",
              "      <th>tokenized text</th>\n",
              "    </tr>\n",
              "  </thead>\n",
              "  <tbody>\n",
              "    <tr>\n",
              "      <th>0</th>\n",
              "      <td>A368Z46FIKHSEZ</td>\n",
              "      <td>5</td>\n",
              "      <td>i love these cookies  not only are they health...</td>\n",
              "      <td>135</td>\n",
              "      <td>[i, love, these, cookies, not, only, are, they...</td>\n",
              "    </tr>\n",
              "    <tr>\n",
              "      <th>1</th>\n",
              "      <td>A1JAPP1CXRG57A</td>\n",
              "      <td>5</td>\n",
              "      <td>quaker soft baked oatmeal cookies with raisins...</td>\n",
              "      <td>1316</td>\n",
              "      <td>[quaker, soft, baked, oatmeal, cookies, with, ...</td>\n",
              "    </tr>\n",
              "    <tr>\n",
              "      <th>2</th>\n",
              "      <td>A2Z9JNXPIEL2B9</td>\n",
              "      <td>5</td>\n",
              "      <td>i am usually not a huge fan of oatmeal cookies...</td>\n",
              "      <td>261</td>\n",
              "      <td>[i, am, usually, not, a, huge, fan, of, oatmea...</td>\n",
              "    </tr>\n",
              "    <tr>\n",
              "      <th>3</th>\n",
              "      <td>A31CYJQO3FL586</td>\n",
              "      <td>5</td>\n",
              "      <td>i participated in a product review that includ...</td>\n",
              "      <td>530</td>\n",
              "      <td>[i, participated, in, a, product, review, that...</td>\n",
              "    </tr>\n",
              "    <tr>\n",
              "      <th>4</th>\n",
              "      <td>A2KXQ2EKFF3K2G</td>\n",
              "      <td>5</td>\n",
              "      <td>my kids loved these i was very pleased to give...</td>\n",
              "      <td>169</td>\n",
              "      <td>[my, kids, loved, these, i, was, very, pleased...</td>\n",
              "    </tr>\n",
              "  </tbody>\n",
              "</table>\n",
              "</div>"
            ],
            "text/plain": [
              "          user_id  ...                                     tokenized text\n",
              "0  A368Z46FIKHSEZ  ...  [i, love, these, cookies, not, only, are, they...\n",
              "1  A1JAPP1CXRG57A  ...  [quaker, soft, baked, oatmeal, cookies, with, ...\n",
              "2  A2Z9JNXPIEL2B9  ...  [i, am, usually, not, a, huge, fan, of, oatmea...\n",
              "3  A31CYJQO3FL586  ...  [i, participated, in, a, product, review, that...\n",
              "4  A2KXQ2EKFF3K2G  ...  [my, kids, loved, these, i, was, very, pleased...\n",
              "\n",
              "[5 rows x 5 columns]"
            ]
          },
          "metadata": {
            "tags": []
          },
          "execution_count": 15
        }
      ]
    },
    {
      "cell_type": "markdown",
      "metadata": {
        "id": "Q3phhoa1PpC5",
        "colab_type": "text"
      },
      "source": [
        "## Question 3 ##"
      ]
    },
    {
      "cell_type": "markdown",
      "metadata": {
        "id": "ZGeS_hKzPpC8",
        "colab_type": "text"
      },
      "source": [
        "* Apply the following preprocessing techniques:\n",
        "\n",
        "     * Remove stopwords\n",
        "     * Perform parts of speech tagging\n",
        "     * Perform stemming\n",
        "     * Optional: Perform lemmatization\n",
        "\n",
        "  Recommendation: Create a new column in your data set for every preprocessing technique you apply, so you can see the progression of the reviews text."
      ]
    },
    {
      "cell_type": "code",
      "metadata": {
        "id": "F_saNnh-SeNE",
        "colab_type": "code",
        "colab": {
          "base_uri": "https://localhost:8080/",
          "height": 66
        },
        "outputId": "aaae810a-83ac-4354-db0f-0e90dcaa6f5d"
      },
      "source": [
        "from nltk.corpus import stopwords\n",
        "nltk.download('stopwords')"
      ],
      "execution_count": 16,
      "outputs": [
        {
          "output_type": "stream",
          "text": [
            "[nltk_data] Downloading package stopwords to /root/nltk_data...\n",
            "[nltk_data]   Package stopwords is already up-to-date!\n"
          ],
          "name": "stdout"
        },
        {
          "output_type": "execute_result",
          "data": {
            "text/plain": [
              "True"
            ]
          },
          "metadata": {
            "tags": []
          },
          "execution_count": 16
        }
      ]
    },
    {
      "cell_type": "code",
      "metadata": {
        "id": "CNJZFhzAThle",
        "colab_type": "code",
        "colab": {}
      },
      "source": [
        "stopwords = set(stopwords.words('english'))"
      ],
      "execution_count": 0,
      "outputs": []
    },
    {
      "cell_type": "code",
      "metadata": {
        "id": "nUOrUjEJT8Ix",
        "colab_type": "code",
        "colab": {}
      },
      "source": [
        "data['filtered text'] = data['tokenized text'].apply(lambda x: [item for item in x if item not in stopwords])"
      ],
      "execution_count": 0,
      "outputs": []
    },
    {
      "cell_type": "code",
      "metadata": {
        "id": "KecH6TvDUgMb",
        "colab_type": "code",
        "outputId": "bdead9f5-b1f7-4a9e-b733-4a567779b896",
        "colab": {
          "base_uri": "https://localhost:8080/",
          "height": 256
        }
      },
      "source": [
        "data.head()"
      ],
      "execution_count": 19,
      "outputs": [
        {
          "output_type": "execute_result",
          "data": {
            "text/html": [
              "<div>\n",
              "<style scoped>\n",
              "    .dataframe tbody tr th:only-of-type {\n",
              "        vertical-align: middle;\n",
              "    }\n",
              "\n",
              "    .dataframe tbody tr th {\n",
              "        vertical-align: top;\n",
              "    }\n",
              "\n",
              "    .dataframe thead th {\n",
              "        text-align: right;\n",
              "    }\n",
              "</style>\n",
              "<table border=\"1\" class=\"dataframe\">\n",
              "  <thead>\n",
              "    <tr style=\"text-align: right;\">\n",
              "      <th></th>\n",
              "      <th>user_id</th>\n",
              "      <th>stars</th>\n",
              "      <th>reviews</th>\n",
              "      <th>characterlength</th>\n",
              "      <th>tokenized text</th>\n",
              "      <th>filtered text</th>\n",
              "    </tr>\n",
              "  </thead>\n",
              "  <tbody>\n",
              "    <tr>\n",
              "      <th>0</th>\n",
              "      <td>A368Z46FIKHSEZ</td>\n",
              "      <td>5</td>\n",
              "      <td>i love these cookies  not only are they health...</td>\n",
              "      <td>135</td>\n",
              "      <td>[i, love, these, cookies, not, only, are, they...</td>\n",
              "      <td>[love, cookies, healthy, taste, great, soft, d...</td>\n",
              "    </tr>\n",
              "    <tr>\n",
              "      <th>1</th>\n",
              "      <td>A1JAPP1CXRG57A</td>\n",
              "      <td>5</td>\n",
              "      <td>quaker soft baked oatmeal cookies with raisins...</td>\n",
              "      <td>1316</td>\n",
              "      <td>[quaker, soft, baked, oatmeal, cookies, with, ...</td>\n",
              "      <td>[quaker, soft, baked, oatmeal, cookies, raisin...</td>\n",
              "    </tr>\n",
              "    <tr>\n",
              "      <th>2</th>\n",
              "      <td>A2Z9JNXPIEL2B9</td>\n",
              "      <td>5</td>\n",
              "      <td>i am usually not a huge fan of oatmeal cookies...</td>\n",
              "      <td>261</td>\n",
              "      <td>[i, am, usually, not, a, huge, fan, of, oatmea...</td>\n",
              "      <td>[usually, huge, fan, oatmeal, cookies, literal...</td>\n",
              "    </tr>\n",
              "    <tr>\n",
              "      <th>3</th>\n",
              "      <td>A31CYJQO3FL586</td>\n",
              "      <td>5</td>\n",
              "      <td>i participated in a product review that includ...</td>\n",
              "      <td>530</td>\n",
              "      <td>[i, participated, in, a, product, review, that...</td>\n",
              "      <td>[participated, product, review, included, samp...</td>\n",
              "    </tr>\n",
              "    <tr>\n",
              "      <th>4</th>\n",
              "      <td>A2KXQ2EKFF3K2G</td>\n",
              "      <td>5</td>\n",
              "      <td>my kids loved these i was very pleased to give...</td>\n",
              "      <td>169</td>\n",
              "      <td>[my, kids, loved, these, i, was, very, pleased...</td>\n",
              "      <td>[kids, loved, pleased, give, kids, quick, go, ...</td>\n",
              "    </tr>\n",
              "  </tbody>\n",
              "</table>\n",
              "</div>"
            ],
            "text/plain": [
              "          user_id  ...                                      filtered text\n",
              "0  A368Z46FIKHSEZ  ...  [love, cookies, healthy, taste, great, soft, d...\n",
              "1  A1JAPP1CXRG57A  ...  [quaker, soft, baked, oatmeal, cookies, raisin...\n",
              "2  A2Z9JNXPIEL2B9  ...  [usually, huge, fan, oatmeal, cookies, literal...\n",
              "3  A31CYJQO3FL586  ...  [participated, product, review, included, samp...\n",
              "4  A2KXQ2EKFF3K2G  ...  [kids, loved, pleased, give, kids, quick, go, ...\n",
              "\n",
              "[5 rows x 6 columns]"
            ]
          },
          "metadata": {
            "tags": []
          },
          "execution_count": 19
        }
      ]
    },
    {
      "cell_type": "code",
      "metadata": {
        "id": "k0bhjHLPU6km",
        "colab_type": "code",
        "outputId": "5cabf330-3d7a-4767-f224-eaf1262f962a",
        "colab": {
          "base_uri": "https://localhost:8080/",
          "height": 98
        }
      },
      "source": [
        "nltk.download('averaged_perceptron_tagger')"
      ],
      "execution_count": 20,
      "outputs": [
        {
          "output_type": "stream",
          "text": [
            "[nltk_data] Downloading package averaged_perceptron_tagger to\n",
            "[nltk_data]     /root/nltk_data...\n",
            "[nltk_data]   Package averaged_perceptron_tagger is already up-to-\n",
            "[nltk_data]       date!\n"
          ],
          "name": "stdout"
        },
        {
          "output_type": "execute_result",
          "data": {
            "text/plain": [
              "True"
            ]
          },
          "metadata": {
            "tags": []
          },
          "execution_count": 20
        }
      ]
    },
    {
      "cell_type": "code",
      "metadata": {
        "id": "4Dap-bMaWRv2",
        "colab_type": "code",
        "colab": {}
      },
      "source": [
        "data['postags']= data['filtered text'].apply(\n",
        "                 lambda row: [nltk.pos_tag(row) for item in row])"
      ],
      "execution_count": 0,
      "outputs": []
    },
    {
      "cell_type": "code",
      "metadata": {
        "id": "zl6bP4hpWRoY",
        "colab_type": "code",
        "outputId": "9a20e94d-c0a3-472a-f7d7-b6b89fef1440",
        "colab": {
          "base_uri": "https://localhost:8080/",
          "height": 272
        }
      },
      "source": [
        "data.head()"
      ],
      "execution_count": 22,
      "outputs": [
        {
          "output_type": "execute_result",
          "data": {
            "text/html": [
              "<div>\n",
              "<style scoped>\n",
              "    .dataframe tbody tr th:only-of-type {\n",
              "        vertical-align: middle;\n",
              "    }\n",
              "\n",
              "    .dataframe tbody tr th {\n",
              "        vertical-align: top;\n",
              "    }\n",
              "\n",
              "    .dataframe thead th {\n",
              "        text-align: right;\n",
              "    }\n",
              "</style>\n",
              "<table border=\"1\" class=\"dataframe\">\n",
              "  <thead>\n",
              "    <tr style=\"text-align: right;\">\n",
              "      <th></th>\n",
              "      <th>user_id</th>\n",
              "      <th>stars</th>\n",
              "      <th>reviews</th>\n",
              "      <th>characterlength</th>\n",
              "      <th>tokenized text</th>\n",
              "      <th>filtered text</th>\n",
              "      <th>postags</th>\n",
              "    </tr>\n",
              "  </thead>\n",
              "  <tbody>\n",
              "    <tr>\n",
              "      <th>0</th>\n",
              "      <td>A368Z46FIKHSEZ</td>\n",
              "      <td>5</td>\n",
              "      <td>i love these cookies  not only are they health...</td>\n",
              "      <td>135</td>\n",
              "      <td>[i, love, these, cookies, not, only, are, they...</td>\n",
              "      <td>[love, cookies, healthy, taste, great, soft, d...</td>\n",
              "      <td>[[(love, VB), (cookies, NNS), (healthy, JJ), (...</td>\n",
              "    </tr>\n",
              "    <tr>\n",
              "      <th>1</th>\n",
              "      <td>A1JAPP1CXRG57A</td>\n",
              "      <td>5</td>\n",
              "      <td>quaker soft baked oatmeal cookies with raisins...</td>\n",
              "      <td>1316</td>\n",
              "      <td>[quaker, soft, baked, oatmeal, cookies, with, ...</td>\n",
              "      <td>[quaker, soft, baked, oatmeal, cookies, raisin...</td>\n",
              "      <td>[[(quaker, NN), (soft, JJ), (baked, VBD), (oat...</td>\n",
              "    </tr>\n",
              "    <tr>\n",
              "      <th>2</th>\n",
              "      <td>A2Z9JNXPIEL2B9</td>\n",
              "      <td>5</td>\n",
              "      <td>i am usually not a huge fan of oatmeal cookies...</td>\n",
              "      <td>261</td>\n",
              "      <td>[i, am, usually, not, a, huge, fan, of, oatmea...</td>\n",
              "      <td>[usually, huge, fan, oatmeal, cookies, literal...</td>\n",
              "      <td>[[(usually, RB), (huge, JJ), (fan, NN), (oatme...</td>\n",
              "    </tr>\n",
              "    <tr>\n",
              "      <th>3</th>\n",
              "      <td>A31CYJQO3FL586</td>\n",
              "      <td>5</td>\n",
              "      <td>i participated in a product review that includ...</td>\n",
              "      <td>530</td>\n",
              "      <td>[i, participated, in, a, product, review, that...</td>\n",
              "      <td>[participated, product, review, included, samp...</td>\n",
              "      <td>[[(participated, JJ), (product, NN), (review, ...</td>\n",
              "    </tr>\n",
              "    <tr>\n",
              "      <th>4</th>\n",
              "      <td>A2KXQ2EKFF3K2G</td>\n",
              "      <td>5</td>\n",
              "      <td>my kids loved these i was very pleased to give...</td>\n",
              "      <td>169</td>\n",
              "      <td>[my, kids, loved, these, i, was, very, pleased...</td>\n",
              "      <td>[kids, loved, pleased, give, kids, quick, go, ...</td>\n",
              "      <td>[[(kids, NNS), (loved, VBD), (pleased, JJ), (g...</td>\n",
              "    </tr>\n",
              "  </tbody>\n",
              "</table>\n",
              "</div>"
            ],
            "text/plain": [
              "          user_id  ...                                            postags\n",
              "0  A368Z46FIKHSEZ  ...  [[(love, VB), (cookies, NNS), (healthy, JJ), (...\n",
              "1  A1JAPP1CXRG57A  ...  [[(quaker, NN), (soft, JJ), (baked, VBD), (oat...\n",
              "2  A2Z9JNXPIEL2B9  ...  [[(usually, RB), (huge, JJ), (fan, NN), (oatme...\n",
              "3  A31CYJQO3FL586  ...  [[(participated, JJ), (product, NN), (review, ...\n",
              "4  A2KXQ2EKFF3K2G  ...  [[(kids, NNS), (loved, VBD), (pleased, JJ), (g...\n",
              "\n",
              "[5 rows x 7 columns]"
            ]
          },
          "metadata": {
            "tags": []
          },
          "execution_count": 22
        }
      ]
    },
    {
      "cell_type": "markdown",
      "metadata": {
        "id": "CUqo39vKaOEw",
        "colab_type": "text"
      },
      "source": [
        "# Stemming"
      ]
    },
    {
      "cell_type": "code",
      "metadata": {
        "id": "DjQJUhQLWRKn",
        "colab_type": "code",
        "outputId": "f58eb437-e161-4e46-fb6b-b6d9deecd5e6",
        "colab": {
          "base_uri": "https://localhost:8080/",
          "height": 50
        }
      },
      "source": [
        "from nltk.stem import PorterStemmer\n",
        "from nltk.stem import WordNetLemmatizer\n",
        "nltk.download('wordnet')\n",
        "stem = PorterStemmer()\n",
        "woRdnet = WordNetLemmatizer()\n",
        "snow = nltk.stem.SnowballStemmer('english')"
      ],
      "execution_count": 23,
      "outputs": [
        {
          "output_type": "stream",
          "text": [
            "[nltk_data] Downloading package wordnet to /root/nltk_data...\n",
            "[nltk_data]   Package wordnet is already up-to-date!\n"
          ],
          "name": "stdout"
        }
      ]
    },
    {
      "cell_type": "code",
      "metadata": {
        "id": "IcJD8fu6aVT9",
        "colab_type": "code",
        "colab": {}
      },
      "source": [
        "data['stemmed'] = data['filtered text'].apply(lambda x: [stem.stem(words) for words in x])"
      ],
      "execution_count": 0,
      "outputs": []
    },
    {
      "cell_type": "code",
      "metadata": {
        "id": "ZcNjGAdBdbkD",
        "colab_type": "code",
        "colab": {}
      },
      "source": [
        "data['stemmed2'] = data['filtered text'].apply(lambda x: [snow.stem(words) for words in x])"
      ],
      "execution_count": 0,
      "outputs": []
    },
    {
      "cell_type": "code",
      "metadata": {
        "id": "NgOB-s3CeZ97",
        "colab_type": "code",
        "colab": {}
      },
      "source": [
        "data['lemmatized'] = data['filtered text'].apply(lambda x: [woRdnet.lemmatize(words) for words in x])"
      ],
      "execution_count": 0,
      "outputs": []
    },
    {
      "cell_type": "code",
      "metadata": {
        "id": "_bXfOt9FeaT8",
        "colab_type": "code",
        "outputId": "094819d5-c7f5-4f1b-8d22-2f92c4022872",
        "colab": {
          "base_uri": "https://localhost:8080/",
          "height": 418
        }
      },
      "source": [
        "data.head()"
      ],
      "execution_count": 35,
      "outputs": [
        {
          "output_type": "execute_result",
          "data": {
            "text/html": [
              "<div>\n",
              "<style scoped>\n",
              "    .dataframe tbody tr th:only-of-type {\n",
              "        vertical-align: middle;\n",
              "    }\n",
              "\n",
              "    .dataframe tbody tr th {\n",
              "        vertical-align: top;\n",
              "    }\n",
              "\n",
              "    .dataframe thead th {\n",
              "        text-align: right;\n",
              "    }\n",
              "</style>\n",
              "<table border=\"1\" class=\"dataframe\">\n",
              "  <thead>\n",
              "    <tr style=\"text-align: right;\">\n",
              "      <th></th>\n",
              "      <th>user_id</th>\n",
              "      <th>stars</th>\n",
              "      <th>reviews</th>\n",
              "      <th>characterlength</th>\n",
              "      <th>tokenized text</th>\n",
              "      <th>filtered text</th>\n",
              "      <th>postags</th>\n",
              "      <th>stemmed</th>\n",
              "      <th>stemmed2</th>\n",
              "      <th>lemmatized</th>\n",
              "    </tr>\n",
              "  </thead>\n",
              "  <tbody>\n",
              "    <tr>\n",
              "      <th>0</th>\n",
              "      <td>A368Z46FIKHSEZ</td>\n",
              "      <td>5</td>\n",
              "      <td>i love these cookies  not only are they health...</td>\n",
              "      <td>135</td>\n",
              "      <td>[i, love, these, cookies, not, only, are, they...</td>\n",
              "      <td>[love, cookies, healthy, taste, great, soft, d...</td>\n",
              "      <td>[[(love, VB), (cookies, NNS), (healthy, JJ), (...</td>\n",
              "      <td>[love, cooki, healthi, tast, great, soft, defi...</td>\n",
              "      <td>[love, cooki, healthi, tast, great, soft, defi...</td>\n",
              "      <td>[love, cooky, healthy, taste, great, soft, def...</td>\n",
              "    </tr>\n",
              "    <tr>\n",
              "      <th>1</th>\n",
              "      <td>A1JAPP1CXRG57A</td>\n",
              "      <td>5</td>\n",
              "      <td>quaker soft baked oatmeal cookies with raisins...</td>\n",
              "      <td>1316</td>\n",
              "      <td>[quaker, soft, baked, oatmeal, cookies, with, ...</td>\n",
              "      <td>[quaker, soft, baked, oatmeal, cookies, raisin...</td>\n",
              "      <td>[[(quaker, NN), (soft, JJ), (baked, VBD), (oat...</td>\n",
              "      <td>[quaker, soft, bake, oatmeal, cooki, raisin, d...</td>\n",
              "      <td>[quaker, soft, bake, oatmeal, cooki, raisin, d...</td>\n",
              "      <td>[quaker, soft, baked, oatmeal, cooky, raisin, ...</td>\n",
              "    </tr>\n",
              "    <tr>\n",
              "      <th>2</th>\n",
              "      <td>A2Z9JNXPIEL2B9</td>\n",
              "      <td>5</td>\n",
              "      <td>i am usually not a huge fan of oatmeal cookies...</td>\n",
              "      <td>261</td>\n",
              "      <td>[i, am, usually, not, a, huge, fan, of, oatmea...</td>\n",
              "      <td>[usually, huge, fan, oatmeal, cookies, literal...</td>\n",
              "      <td>[[(usually, RB), (huge, JJ), (fan, NN), (oatme...</td>\n",
              "      <td>[usual, huge, fan, oatmeal, cooki, liter, melt...</td>\n",
              "      <td>[usual, huge, fan, oatmeal, cooki, liter, melt...</td>\n",
              "      <td>[usually, huge, fan, oatmeal, cooky, literally...</td>\n",
              "    </tr>\n",
              "    <tr>\n",
              "      <th>3</th>\n",
              "      <td>A31CYJQO3FL586</td>\n",
              "      <td>5</td>\n",
              "      <td>i participated in a product review that includ...</td>\n",
              "      <td>530</td>\n",
              "      <td>[i, participated, in, a, product, review, that...</td>\n",
              "      <td>[participated, product, review, included, samp...</td>\n",
              "      <td>[[(participated, JJ), (product, NN), (review, ...</td>\n",
              "      <td>[particip, product, review, includ, sampl, hre...</td>\n",
              "      <td>[particip, product, review, includ, sampl, hre...</td>\n",
              "      <td>[participated, product, review, included, samp...</td>\n",
              "    </tr>\n",
              "    <tr>\n",
              "      <th>4</th>\n",
              "      <td>A2KXQ2EKFF3K2G</td>\n",
              "      <td>5</td>\n",
              "      <td>my kids loved these i was very pleased to give...</td>\n",
              "      <td>169</td>\n",
              "      <td>[my, kids, loved, these, i, was, very, pleased...</td>\n",
              "      <td>[kids, loved, pleased, give, kids, quick, go, ...</td>\n",
              "      <td>[[(kids, NNS), (loved, VBD), (pleased, JJ), (g...</td>\n",
              "      <td>[kid, love, pleas, give, kid, quick, go, healt...</td>\n",
              "      <td>[kid, love, pleas, give, kid, quick, go, healt...</td>\n",
              "      <td>[kid, loved, pleased, give, kid, quick, go, he...</td>\n",
              "    </tr>\n",
              "  </tbody>\n",
              "</table>\n",
              "</div>"
            ],
            "text/plain": [
              "          user_id  ...                                         lemmatized\n",
              "0  A368Z46FIKHSEZ  ...  [love, cooky, healthy, taste, great, soft, def...\n",
              "1  A1JAPP1CXRG57A  ...  [quaker, soft, baked, oatmeal, cooky, raisin, ...\n",
              "2  A2Z9JNXPIEL2B9  ...  [usually, huge, fan, oatmeal, cooky, literally...\n",
              "3  A31CYJQO3FL586  ...  [participated, product, review, included, samp...\n",
              "4  A2KXQ2EKFF3K2G  ...  [kid, loved, pleased, give, kid, quick, go, he...\n",
              "\n",
              "[5 rows x 10 columns]"
            ]
          },
          "metadata": {
            "tags": []
          },
          "execution_count": 35
        }
      ]
    },
    {
      "cell_type": "markdown",
      "metadata": {
        "collapsed": true,
        "id": "CMNJ8VRtPpC_",
        "colab_type": "text"
      },
      "source": [
        "## Question 4 ##"
      ]
    },
    {
      "cell_type": "markdown",
      "metadata": {
        "id": "vGm5g3M1PpDF",
        "colab_type": "text"
      },
      "source": [
        "* After going through these preprocessing steps, what are the most common words now? Do they make more sense?"
      ]
    },
    {
      "cell_type": "code",
      "metadata": {
        "id": "TlThnWluhdvM",
        "colab_type": "code",
        "colab": {}
      },
      "source": [
        "from nltk.probability import FreqDist"
      ],
      "execution_count": 0,
      "outputs": []
    },
    {
      "cell_type": "code",
      "metadata": {
        "id": "SHg1HQ31WPFE",
        "colab_type": "code",
        "colab": {}
      },
      "source": [
        "mylist =[]\n",
        "data['filtered text'].apply(lambda x: [mylist.append(item) for item in x])"
      ],
      "execution_count": 0,
      "outputs": []
    },
    {
      "cell_type": "code",
      "metadata": {
        "id": "8UNeClq5Wskk",
        "colab_type": "code",
        "colab": {
          "base_uri": "https://localhost:8080/",
          "height": 33
        },
        "outputId": "ec0a6738-c20e-4e62-a692-9682c6e8837f"
      },
      "source": [
        "mylist[0:5]"
      ],
      "execution_count": 43,
      "outputs": [
        {
          "output_type": "execute_result",
          "data": {
            "text/plain": [
              "['love', 'cookies', 'healthy', 'taste', 'great']"
            ]
          },
          "metadata": {
            "tags": []
          },
          "execution_count": 43
        }
      ]
    },
    {
      "cell_type": "code",
      "metadata": {
        "id": "HHH9gocjX0vT",
        "colab_type": "code",
        "colab": {}
      },
      "source": [
        "frequency = FreqDist(mylist)"
      ],
      "execution_count": 0,
      "outputs": []
    },
    {
      "cell_type": "code",
      "metadata": {
        "id": "N0hku49YYMTp",
        "colab_type": "code",
        "colab": {
          "base_uri": "https://localhost:8080/",
          "height": 33
        },
        "outputId": "1aff8273-18ac-4439-9128-68871ae6670e"
      },
      "source": [
        "print(frequency)"
      ],
      "execution_count": 39,
      "outputs": [
        {
          "output_type": "stream",
          "text": [
            "<FreqDist with 2819 samples and 23824 outcomes>\n"
          ],
          "name": "stdout"
        }
      ]
    },
    {
      "cell_type": "code",
      "metadata": {
        "id": "Yzj3zfBmYQW0",
        "colab_type": "code",
        "colab": {
          "base_uri": "https://localhost:8080/",
          "height": 98
        },
        "outputId": "ca98ff1d-00a0-4b41-f4c6-b4aa2cd75842"
      },
      "source": [
        "frequency.most_common(5)"
      ],
      "execution_count": 40,
      "outputs": [
        {
          "output_type": "execute_result",
          "data": {
            "text/plain": [
              "[('cookies', 835),\n",
              " ('cookie', 824),\n",
              " ('soft', 693),\n",
              " ('oatmeal', 479),\n",
              " ('good', 344)]"
            ]
          },
          "metadata": {
            "tags": []
          },
          "execution_count": 40
        }
      ]
    },
    {
      "cell_type": "code",
      "metadata": {
        "id": "KD_xJTUgg3Bm",
        "colab_type": "code",
        "colab": {}
      },
      "source": [
        "import matplotlib.pyplot as plt"
      ],
      "execution_count": 0,
      "outputs": []
    },
    {
      "cell_type": "code",
      "metadata": {
        "id": "5zf-QD5khBMn",
        "colab_type": "code",
        "colab": {
          "base_uri": "https://localhost:8080/",
          "height": 951
        },
        "outputId": "7e51f13e-8e0d-40c5-f6f4-4d0d265da26a"
      },
      "source": [
        "plt.figure(figsize =(25,15))\n",
        "frequency.plot(100,cumulative = False)\n",
        "plt.show()"
      ],
      "execution_count": 42,
      "outputs": [
        {
          "output_type": "display_data",
          "data": {
            "image/png": "[encoded data removed]",
            "text/plain": [
              "<Figure size 1800x1080 with 1 Axes>"
            ]
          },
          "metadata": {
            "tags": []
          }
        }
      ]
    },
    {
      "cell_type": "code",
      "metadata": {
        "id": "x7DgwmQ3hca5",
        "colab_type": "code",
        "colab": {}
      },
      "source": [
        ""
      ],
      "execution_count": 0,
      "outputs": []
    }
  ]
}